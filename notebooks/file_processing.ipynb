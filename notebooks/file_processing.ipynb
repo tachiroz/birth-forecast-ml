{
 "cells": [
  {
   "cell_type": "code",
   "execution_count": 6,
   "metadata": {},
   "outputs": [
    {
     "name": "stdout",
     "output_type": "stream",
     "text": [
      "Обрабатываем файл: ../data\\Births.csv\n",
      "Файл перезаписан: ../data\\Births.csv\n",
      "\n",
      "Обрабатываем файл: ../data\\Deaths.csv\n",
      "Файл перезаписан: ../data\\Deaths.csv\n",
      "\n",
      "Обрабатываем файл: ../data\\Migration.csv\n",
      "Файл перезаписан: ../data\\Migration.csv\n",
      "\n",
      "Обрабатываем файл: ../data\\Population.csv\n",
      "Файл перезаписан: ../data\\Population.csv\n",
      "\n"
     ]
    }
   ],
   "source": [
    "import os\n",
    "import pandas as pd\n",
    "\n",
    "data_dir = \"../data\"\n",
    "\n",
    "# Проходим по всем подкаталогам внутри data\n",
    "for root, dirs, files in os.walk(data_dir):\n",
    "    for file_name in files:\n",
    "        # Проверяем, что файл заканчивается на .csv\n",
    "        if file_name.lower().endswith(\".csv\"):\n",
    "            full_path = os.path.join(root, file_name)\n",
    "            print(f\"Обрабатываем файл: {full_path}\")\n",
    "            \n",
    "            try:\n",
    "                # Читаем существующий CSV, у которого разделитель точка с запятой\n",
    "                df = pd.read_csv(full_path, sep=';', encoding='utf-8')\n",
    "                \n",
    "                # Перезаписываем этот же файл, но с запятой как разделителем\n",
    "                df.to_csv(full_path, sep=',', index=False, encoding='utf-8')\n",
    "                print(f\"Файл перезаписан: {full_path}\\n\")\n",
    "            \n",
    "            except Exception as e:\n",
    "                print(f\"Ошибка при обработке {full_path}: {e}\\n\")\n"
   ]
  }
 ],
 "metadata": {
  "kernelspec": {
   "display_name": "venv",
   "language": "python",
   "name": "python3"
  },
  "language_info": {
   "codemirror_mode": {
    "name": "ipython",
    "version": 3
   },
   "file_extension": ".py",
   "mimetype": "text/x-python",
   "name": "python",
   "nbconvert_exporter": "python",
   "pygments_lexer": "ipython3",
   "version": "3.12.6"
  }
 },
 "nbformat": 4,
 "nbformat_minor": 2
}
